{
 "cells": [
  {
   "cell_type": "code",
   "execution_count": 9,
   "metadata": {},
   "outputs": [],
   "source": [
    "# Chunk de importação\n",
    "import pandas as pd\n",
    "import numpy as np\n",
    "import os\n",
    "current_directory = os.getcwd()"
   ]
  },
  {
   "cell_type": "code",
   "execution_count": 26,
   "metadata": {},
   "outputs": [],
   "source": [
    "# Analise do OSD 40 - Thermal Conditions\n",
    "relative_path = r'C:\\Users\\ferna\\Documents\\GitHub\\anderworm\\Project\\datasets\\temperature_osd40' \n",
    "folder_path = os.path.join(current_directory, relative_path)\n",
    "\n",
    "data_frames = []\n",
    "\n",
    "# Loop through all files in the folder\n",
    "for filename in os.listdir(folder_path):\n",
    "    # Check if the file has a .txt extension\n",
    "    if filename.endswith('.txt'):\n",
    "        # Create the absolute file path for each text file\n",
    "        file_path = os.path.join(folder_path, filename)\n",
    "        \n",
    "        # Read the text file into a temporary DataFrame\n",
    "        temp_df = pd.read_csv(file_path, delimiter='\\t')  # Use the appropriate delimiter if needed\n",
    "        \n",
    "        # Append the temporary DataFrame to the list of DataFrames\n",
    "        data_frames.append(temp_df)\n",
    "\n",
    "# Concatenate all DataFrames into a single DataFrame\n",
    "df_temperature = pd.concat(data_frames, ignore_index=True)"
   ]
  },
  {
   "cell_type": "code",
   "execution_count": 28,
   "metadata": {},
   "outputs": [],
   "source": [
    "# Análise do OSD 42 - Expression data from C. elegans\n",
    "relative_path = r'C:\\Users\\ferna\\Documents\\GitHub\\anderworm\\Project\\datasets\\expression_osd42\\GLDS-42_array_normalized-annotated.txt' \n",
    "file_path42 = os.path.join(current_directory, relative_path)\n",
    "df_expression = pd.read_csv(file_path42, delimiter='\\t')"
   ]
  }
 ],
 "metadata": {
  "kernelspec": {
   "display_name": "Python 3",
   "language": "python",
   "name": "python3"
  },
  "language_info": {
   "codemirror_mode": {
    "name": "ipython",
    "version": 3
   },
   "file_extension": ".py",
   "mimetype": "text/x-python",
   "name": "python",
   "nbconvert_exporter": "python",
   "pygments_lexer": "ipython3",
   "version": "3.11.4"
  }
 },
 "nbformat": 4,
 "nbformat_minor": 2
}
